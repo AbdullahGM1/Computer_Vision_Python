{
 "cells": [
  {
   "cell_type": "code",
   "execution_count": 37,
   "metadata": {},
   "outputs": [
    {
     "name": "stdout",
     "output_type": "stream",
     "text": [
      "(32, 32, 3)\n",
      "(3072,)\n"
     ]
    },
    {
     "data": {
      "image/png": "[encoded data removed]",
      "text/plain": [
       "<Figure size 640x480 with 1 Axes>"
      ]
     },
     "metadata": {},
     "output_type": "display_data"
    }
   ],
   "source": [
    "import numpy as np\n",
    "import matplotlib.pyplot as ptl\n",
    "\n",
    "# Example 3D input (H=32, W=32, C=3)\n",
    "Z = np.random.rand(32, 32, 3)\n",
    "\n",
    "ptl.imshow(Z)\n",
    "print(Z.shape)\n",
    "\n",
    "#print(Z)\n",
    "\n",
    "# Flatten the 3D array to 1D vector (It's a Vector with (32x32x3) rows, and one columan)\n",
    "\n",
    "Z_flattened = Z.flatten()\n",
    "print(Z_flattened.shape)\n",
    "\n"
   ]
  },
  {
   "cell_type": "markdown",
   "metadata": {},
   "source": [
    "Now, we are apply the linear Function\n",
    "\n",
    "y=W*Z+b\n"
   ]
  },
  {
   "cell_type": "code",
   "execution_count": 38,
   "metadata": {},
   "outputs": [
    {
     "name": "stdout",
     "output_type": "stream",
     "text": [
      "[[0.77290701 0.24718112 0.75023578 ... 0.63859944 0.62277516 0.83925337]\n",
      " [0.99644875 0.20450876 0.31999789 ... 0.39304981 0.33564234 0.42072972]\n",
      " [0.31336837 0.68258499 0.58491984 ... 0.38342637 0.23413392 0.20943152]\n",
      " ...\n",
      " [0.31547564 0.6104806  0.88034977 ... 0.11252665 0.07835561 0.9294072 ]\n",
      " [0.977153   0.41515148 0.45183282 ... 0.12456652 0.07415526 0.21494823]\n",
      " [0.86872757 0.00655166 0.24063062 ... 0.50589754 0.09380498 0.71651461]]\n"
     ]
    }
   ],
   "source": [
    "# Example weight matrix and bias\n",
    "num_classes = 10  # For example, 10 classes for classification\n",
    "W = np.random.rand(num_classes, 3072)  # Weight matrix of shape (num_classes, 3072)\n",
    "b = np.random.rand(num_classes)  # Bias vector of shape (num_classes,)\n",
    "\n",
    "print(W)\n",
    "\n",
    "# Linear function\n",
    "y = np.dot(W, Z_flattened) + b"
   ]
  },
  {
   "cell_type": "code",
   "execution_count": 22,
   "metadata": {},
   "outputs": [
    {
     "name": "stdout",
     "output_type": "stream",
     "text": [
      "1.0\n"
     ]
    }
   ],
   "source": [
    "def sigmoid(x):\n",
    "    return 1 / (1 + np.exp(-x))\n",
    "\n",
    "# Apply sigmoid\n",
    "probability = sigmoid(y)\n",
    "\n",
    "print(probability)"
   ]
  },
  {
   "cell_type": "code",
   "execution_count": 29,
   "metadata": {},
   "outputs": [
    {
     "name": "stdout",
     "output_type": "stream",
     "text": [
      "1\n"
     ]
    }
   ],
   "source": [
    "threshold = 0.5\n",
    "predicted_class = 1 if probability >= threshold else 0\n",
    "\n",
    "print(predicted_class)"
   ]
  },
  {
   "cell_type": "code",
   "execution_count": 30,
   "metadata": {},
   "outputs": [
    {
     "name": "stdout",
     "output_type": "stream",
     "text": [
      "Weight vector dimensions: (3072,)\n",
      "Bias: 0.8103900841743352\n"
     ]
    }
   ],
   "source": [
    "import numpy as np\n",
    "\n",
    "# Example 3D input dimensions (H, W, C)\n",
    "H, W, C = 32, 32, 3\n",
    "\n",
    "# Flatten the 3D array to 1D vector\n",
    "flattened_dim = H * W * C  # This will be 32 * 32 * 3 = 3072\n",
    "\n",
    "# Initialize the weight vector with the same dimension as the flattened input\n",
    "W = np.random.rand(flattened_dim)  # Weight vector of shape (3072,)\n",
    "\n",
    "# Initialize the bias\n",
    "b = np.random.rand()  # Bias scalar\n",
    "\n",
    "print(f'Weight vector dimensions: {W.shape}')\n",
    "print(f'Bias: {b}')"
   ]
  },
  {
   "cell_type": "code",
   "execution_count": 32,
   "metadata": {},
   "outputs": [
    {
     "ename": "AttributeError",
     "evalue": "'int' object has no attribute 'shape'",
     "output_type": "error",
     "traceback": [
      "\u001b[0;31m---------------------------------------------------------------------------\u001b[0m",
      "\u001b[0;31mAttributeError\u001b[0m                            Traceback (most recent call last)",
      "Cell \u001b[0;32mIn[32], line 1\u001b[0m\n\u001b[0;32m----> 1\u001b[0m \u001b[38;5;28mprint\u001b[39m(\u001b[43mflattened_dim\u001b[49m\u001b[38;5;241;43m.\u001b[39;49m\u001b[43mshape\u001b[49m)\n",
      "\u001b[0;31mAttributeError\u001b[0m: 'int' object has no attribute 'shape'"
     ]
    }
   ],
   "source": [
    "print(flattened_dim.shape)"
   ]
  }
 ],
 "metadata": {
  "kernelspec": {
   "display_name": "Python 3",
   "language": "python",
   "name": "python3"
  },
  "language_info": {
   "codemirror_mode": {
    "name": "ipython",
    "version": 3
   },
   "file_extension": ".py",
   "mimetype": "text/x-python",
   "name": "python",
   "nbconvert_exporter": "python",
   "pygments_lexer": "ipython3",
   "version": "3.9.7"
  }
 },
 "nbformat": 4,
 "nbformat_minor": 2
}
